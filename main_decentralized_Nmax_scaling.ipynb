{
  "nbformat": 4,
  "nbformat_minor": 0,
  "metadata": {
    "colab": {
      "provenance": [],
      "include_colab_link": true
    },
    "kernelspec": {
      "name": "python3",
      "display_name": "Python 3"
    },
    "language_info": {
      "name": "python"
    }
  },
  "cells": [
    {
      "cell_type": "markdown",
      "metadata": {
        "id": "view-in-github",
        "colab_type": "text"
      },
      "source": [
        "<a href=\"https://colab.research.google.com/github/m-costantini/Set-wise_Coordinate_Descent_for_Dual_Asynchronous_Decentralized_Optimization/blob/master/main_decentralized_Nmax_scaling.ipynb\" target=\"_parent\"><img src=\"https://colab.research.google.com/assets/colab-badge.svg\" alt=\"Open In Colab\"/></a>"
      ]
    },
    {
      "cell_type": "markdown",
      "source": [
        "Code of Experiment A, decentralized setting, in \"Set-wise Coordinate Descent for Dual Asynchronous Decentralized Optimization\", Marina Costantini, Nikolaos Liakopoulos, Panayotis Mertikopoulos, Thrasyvoulos Spyropoulos, submitted to IEEE Transactions on Automatic Control\n",
        "\n",
        "Author: Marina Costantini\n",
        "\n",
        "marina.costantini@eurecom.fr\n",
        "\n",
        "August 2023\n"
      ],
      "metadata": {
        "id": "jWlFfAG8PJQU"
      }
    },
    {
      "cell_type": "code",
      "source": [
        "# Connect to Google Drive\n",
        "from google.colab import drive\n",
        "drive.mount('/content/drive')"
      ],
      "metadata": {
        "colab": {
          "base_uri": "https://localhost:8080/"
        },
        "id": "haeSjsSrIbHy",
        "outputId": "52953f4c-ba16-4f60-aa98-bb74ff56ad1b"
      },
      "execution_count": 1,
      "outputs": [
        {
          "output_type": "stream",
          "name": "stdout",
          "text": [
            "Mounted at /content/drive\n"
          ]
        }
      ]
    },
    {
      "cell_type": "code",
      "source": [
        "# Import common libraries\n",
        "import numpy as np\n",
        "import math\n",
        "import networkx as nx\n",
        "import copy\n",
        "import random\n",
        "import matplotlib.pyplot as plt\n",
        "\n",
        "# Import my own functions\n",
        "import sys\n",
        "sys.path.insert(0, '/content/drive/MyDrive/Colab Notebooks/Set-wise_Coordinate_Descent')\n",
        "\n",
        "!cp -R -u -p /content/drive/MyDrive/Colab\\ Notebooks/Set-wise_Coordinate_Descent/{functions.py,decentralized_algorithms.py,decentralized_problems.py} /content/\n",
        "for mod_name in [\"functions\",\"decentralized_algorithms\",\"decentralized_problems\"]:\n",
        "    if mod_name in sys.modules:\n",
        "        del sys.modules[mod_name]\n",
        "\n",
        "from functions import *\n",
        "from decentralized_problems import QuadraticProblem\n",
        "from decentralized_algorithms import SxCD\n"
      ],
      "metadata": {
        "id": "lsIF6eGu__EQ"
      },
      "execution_count": 3,
      "outputs": []
    },
    {
      "cell_type": "code",
      "source": [
        "# Select seed for reproducibility\n",
        "\n",
        "seed = 3170 # change to get different results\n",
        "print(\"seed =\", seed)\n",
        "np.random.seed(seed)\n",
        "random.seed(seed)"
      ],
      "metadata": {
        "id": "-i93ZGaJKKHs",
        "colab": {
          "base_uri": "https://localhost:8080/"
        },
        "outputId": "4542e8ec-519f-4c04-b726-986849ecb5b3"
      },
      "execution_count": null,
      "outputs": [
        {
          "output_type": "stream",
          "name": "stdout",
          "text": [
            "seed = 3170\n"
          ]
        }
      ]
    },
    {
      "cell_type": "markdown",
      "source": [
        "### Make problem and run algorithms"
      ],
      "metadata": {
        "id": "qRkwcbDRPujQ"
      }
    },
    {
      "cell_type": "code",
      "source": [
        "\"\"\"'''''' Create the two graphs ''''''\"\"\"\n",
        "n = 32\n",
        "deg_list = [8,16]\n",
        "dim = 5\n",
        "\n",
        "steps_list = [6000 for i in range(len(deg_list))]\n",
        "G_list = []\n",
        "for deg in deg_list:\n",
        "    G_list.append( make_graph(n, 'WS', deg, 0) )\n",
        "algos_to_run = ['SU-CD', 'SGS-CD']\n",
        "\n",
        "\"\"\"'''''' For each graph create problem and run algorithms ''''''\"\"\"\n",
        "results_primal = [None for i in range(len(G_list))]\n",
        "results_dual = [None for i in range(len(G_list))]\n",
        "for idx_G, G in enumerate(G_list):\n",
        "    print(\"Running graph\", idx_G+1, \"/\", len(G_list))\n",
        "    max_degree = np.max(np.sum(G,axis=1)) # maximum degree in the network\n",
        "    A = get_edge_matrix(G)\n",
        "    E = np.shape(A)[0]\n",
        "    role, neighbors, N, nodes_edges = create_node_variables(A)\n",
        "    mut_idcs, mat_edge_idxs, edge_to_nodes = create_edge_variables(A, neighbors)\n",
        "\n",
        "    # Generate problem\n",
        "    the_problem = QuadraticProblem(n, dim, A, edge_to_nodes, iid=False, degree=deg_list[idx_G], c_choice='max')\n",
        "    opt_sz = the_problem.get_optimal_stepsizes() # compute optimal stepsize based on coordinate smoothness\n",
        "    significant_digits = 1\n",
        "    sz =  min(opt_sz)\n",
        "    alpha = round(sz, significant_digits - int(math.floor(math.log10(abs(sz)))) - 1)\n",
        "    print(\"Min stepsize: \", sz, \", alpha: \", alpha)\n",
        "    stepsizes = [alpha for i in range(E)] # for this experiment, fix all stepsizes to this value\n",
        "    simu_vars = {'dimensions': dim,\n",
        "                'n': n,\n",
        "                'E': E,\n",
        "                'A': A,\n",
        "                'role': role,\n",
        "                'neighbors': neighbors,\n",
        "                'N': N,\n",
        "                'nodes_edges': nodes_edges,\n",
        "                'mat_edge_idxs': mat_edge_idxs,\n",
        "                'edge_to_nodes': edge_to_nodes,\n",
        "                'stepsizes': stepsizes,\n",
        "                'mut_idcs': mut_idcs,\n",
        "                'steps': steps_list[idx_G],\n",
        "                'iteration_subsampling': 1}\n",
        "\n",
        "    # Run algorithms and store results\n",
        "    primal_obj_vals = {}\n",
        "    dual_obj_vals = {}\n",
        "    for algo in algos_to_run:\n",
        "        print(\"\\tRunning \", algo)\n",
        "        the_solver = SxCD(the_problem, simu_vars, algo)\n",
        "        primal_obj_vals[algo], dual_obj_vals[algo] = the_solver.solve()\n",
        "    results_primal[idx_G] = primal_obj_vals\n",
        "    results_dual[idx_G] = dual_obj_vals"
      ],
      "metadata": {
        "id": "M8uI6KwEGgey",
        "colab": {
          "base_uri": "https://localhost:8080/"
        },
        "outputId": "bb29c6f2-75e8-40b7-84e2-0758095fbafb"
      },
      "execution_count": null,
      "outputs": [
        {
          "output_type": "stream",
          "name": "stdout",
          "text": [
            "Running graph 1 / 2\n",
            "Min stepsize:  10.0 , alpha:  10.0\n",
            "\tRunning  SU-CD\n",
            "\tRunning  SGS-CD\n",
            "Completed 61% --> Precision < 10^(-9) reached @ iter 3677  --> leave!\n",
            "Running graph 2 / 2\n",
            "Min stepsize:  10.0 , alpha:  10.0\n",
            "\tRunning  SU-CD\n",
            "\tRunning  SGS-CD\n",
            "Completed 27% --> Precision < 10^(-9) reached @ iter 1644  --> leave!\n"
          ]
        }
      ]
    },
    {
      "cell_type": "markdown",
      "source": [
        "#### Plots with slope estiamtion"
      ],
      "metadata": {
        "id": "309_3b0lQk2V"
      }
    },
    {
      "cell_type": "code",
      "source": [
        "fontsz = {'legends':14, 'axes':16, 'titles':18, 'suptitles':20}\n",
        "figsz = (6*len(G_list), 4)\n",
        "color = {'SU-CD':'blue', 'SGS-CD':'red'}\n",
        "linestyle = {'SU-CD':'-', 'SGS-CD':'-'}\n",
        "algo_labels = {'SU-CD':'SU-CD', 'SGS-CD':'SGS-CD'}\n",
        "\n",
        "\n",
        "\"\"\"'''''' Rate estimation ''''''\"\"\"\n",
        "\n",
        "plot_fitting = False\n",
        "if plot_fitting:\n",
        "    fig, ax = plt.subplots(1, len(G_list), figsize=figsz)\n",
        "m_list = [[None for i in range(len(G_list))] for j in range(len(algos_to_run))]\n",
        "b_list = [[None for i in range(len(G_list))] for j in range(len(algos_to_run))]\n",
        "sel_idcs_list = [[None for i in range(len(G_list))] for j in range(len(algos_to_run))]\n",
        "for idx_G in range(len(G_list)):\n",
        "    dual_obj_vals = results_dual[idx_G]\n",
        "    for idx_algo, algo in enumerate(algos_to_run):\n",
        "        dual_vals = dual_obj_vals[algo]\n",
        "        subopt = abs(1 - dual_vals/the_problem.analy_opt_obj_val)\n",
        "        idcs_nz_subopt = np.argwhere(subopt > 0).flatten()\n",
        "        non_zero_subopt = subopt[idcs_nz_subopt]\n",
        "        third_steps = int(len(non_zero_subopt)/3)\n",
        "        sel_idcs_subopt = idcs_nz_subopt[2*third_steps:]\n",
        "        sel_subopt_vals = non_zero_subopt[2*third_steps:]\n",
        "        m, b = np.polyfit(sel_idcs_subopt, np.log(sel_subopt_vals), 1)\n",
        "        if plot_fitting:\n",
        "            ax[idx_G].plot(sel_idcs_subopt, np.log(sel_subopt_vals), color=color[algo], linestyle=linestyle[algo], label=algo)\n",
        "            ax[idx_G].plot( sel_idcs_subopt, m*sel_idcs_subopt+b, 'k--')\n",
        "\n",
        "        m_list[idx_algo][idx_G] = m\n",
        "        b_list[idx_algo][idx_G] = b\n",
        "        sel_idcs_list[idx_algo][idx_G] = sel_idcs_subopt\n",
        "\n",
        "rho_strs = {'SU-CD': r\", $\\rho_U$ =\", 'SGS-CD': r\", $\\rho_G$ =\"}\n",
        "\n",
        "\n",
        "\"\"\"'''''' Plots ''''''\"\"\"\n",
        "\n",
        "fig, ax = plt.subplots(1, len(G_list), figsize=figsz, dpi=70)\n",
        "\n",
        "rate_list = [[None for i in range(len(G_list))] for j in range(len(algos_to_run))]\n",
        "for idx_G in range(len(G_list)):\n",
        "    dual_obj_vals = results_dual[idx_G]\n",
        "    for idx_algo, algo in enumerate(algos_to_run):\n",
        "        rate = 1 - np.exp(m_list[idx_algo][idx_G])\n",
        "        suboptim = abs(1 - dual_obj_vals[algo]/the_problem.analy_opt_obj_val)\n",
        "        ax[idx_G].plot(suboptim, color=color[algo], linestyle=linestyle[algo], label=algo_labels[algo] + rho_strs[algo] + \"{:.4f}\".format(rate) )\n",
        "        support = sel_idcs_list[idx_algo][idx_G]\n",
        "        subopt = suboptim[support[0]]\n",
        "        support_2 = np.linspace(1, len(support), len(support))\n",
        "        ax[idx_G].plot(support, (1-rate)**support_2 * subopt, color=color[algo], linewidth=8, alpha=0.3)\n",
        "        rate_list[idx_algo][idx_G] = rate\n",
        "\n",
        "props = dict(boxstyle='round', facecolor='wheat', alpha=0.5)\n",
        "for idx_G in range(len(G_list)):\n",
        "    ax[idx_G].set_xlabel('Iteration index', fontsize=fontsz['axes']-2)\n",
        "    ax[idx_G].set_ylabel(r'$ \\mid 1 - \\frac{F^k}{F^*} \\mid $', fontsize=fontsz['axes']+2)\n",
        "    ax[idx_G].get_ylim()\n",
        "    ax[idx_G].set_ylim((5e-10,5))\n",
        "    ax[idx_G].yaxis.set_label_coords(-0.09,0.5)\n",
        "    ax[idx_G].grid()\n",
        "    ax[idx_G].set_yscale(\"log\")\n",
        "    title_str = 'Decentralized, ' + str(deg_list[idx_G]) + '-regular graph, ' + r'$n = $' + str(n)\n",
        "    ax[idx_G].set_title(title_str, fontsize=fontsz['titles'])\n",
        "    ax[idx_G].legend(loc='upper right', fontsize=fontsz['legends'])\n",
        "\n",
        "    textstr = r'$\\frac{\\rho_G}{\\rho_U}=%.2f$' % (rate_list[1][idx_G]/rate_list[0][idx_G], )\n",
        "    ax[idx_G].text(0.72, 0.17, textstr, transform=ax[idx_G].transAxes, fontsize=fontsz['legends']+2,\n",
        "        verticalalignment='top', bbox=props) # bottom right\n",
        "\n",
        "fig.subplots_adjust(\n",
        "    left  = 0.125,  # the left side of the subplots of the figure\n",
        "    right = 0.9,    # the right side of the subplots of the figure\n",
        "    bottom = 0.05,   # the bottom of the subplots of the figure\n",
        "    top = 0.85,      # the top of the subplots of the figure\n",
        "    wspace = 0.25,   # the amount of width reserved for blank space between subplots\n",
        "    hspace = 0.2)   # the amount of height reserved for white space between subplots\n"
      ],
      "metadata": {
        "id": "Iah6tRWVI2p3",
        "colab": {
          "base_uri": "https://localhost:8080/",
          "height": 311
        },
        "outputId": "8c7588b8-b380-4bdb-a11c-35b6cbd7062d"
      },
      "execution_count": null,
      "outputs": [
        {
          "output_type": "display_data",
          "data": {
            "text/plain": [
              "<Figure size 840x280 with 2 Axes>"
            ],
            "image/png": "[encoded data removed]"
          },
          "metadata": {}
        }
      ]
    }
  ]
}
